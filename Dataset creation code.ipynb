{
 "cells": [
  {
   "cell_type": "code",
   "execution_count": 2,
   "id": "10c9e145",
   "metadata": {},
   "outputs": [],
   "source": [
    "import pandas as pd\n",
    "\n",
    "#Create a sample dataset\n",
    "data = {\n",
    "    'candidate_id': [1, 2, 3, 4, 5],\n",
    "    'resume_text': [\n",
    "        \"Experienced software engineer with expertise in Python and deep learning.\",\n",
    "        \"Junior developer with Java and C++ experience.\",\n",
    "        \"Data scientist with strong Python skills and machine learning experience.\",\n",
    "        \"Senior developer with a focus on web development and JavaScript.\",\n",
    "        \"Backend developer with experience in Ruby on Rails and database management.\"\n",
    "    ],\n",
    "    'job_id': [101, 102, 101, 103, 104],\n",
    "    'job_description_text': [\n",
    "        \"Looking for a software engineer with experience in Python and machine learning.\",\n",
    "        \"Seeking a junior developer familiar with Java and C++.\",\n",
    "        \"Looking for a software engineer with experience in Python and machine learning.\",\n",
    "        \"Seeking a senior developer with web development skills and JavaScript expertise.\",\n",
    "        \"Hiring a backend developer with experience in Ruby on Rails and database management.\"\n",
    "    ],\n",
    "    'hired': [1, 0, 1, 1, 0]\n",
    "}\n",
    "\n",
    "# Convert the dictionary into a DataFrame\n",
    "df = pd.DataFrame(data)\n",
    "\n",
    "# Save the DataFrame to a CSV file\n",
    "df.to_csv('historical_hiring_data.csv', index=False)\n"
   ]
  },
  {
   "cell_type": "code",
   "execution_count": null,
   "id": "18c41b06",
   "metadata": {},
   "outputs": [],
   "source": []
  }
 ],
 "metadata": {
  "kernelspec": {
   "display_name": "Python 3 (ipykernel)",
   "language": "python",
   "name": "python3"
  },
  "language_info": {
   "codemirror_mode": {
    "name": "ipython",
    "version": 3
   },
   "file_extension": ".py",
   "mimetype": "text/x-python",
   "name": "python",
   "nbconvert_exporter": "python",
   "pygments_lexer": "ipython3",
   "version": "3.11.4"
  }
 },
 "nbformat": 4,
 "nbformat_minor": 5
}
